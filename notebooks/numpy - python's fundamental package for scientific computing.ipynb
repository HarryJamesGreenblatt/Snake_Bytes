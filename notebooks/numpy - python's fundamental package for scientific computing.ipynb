{
 "cells": [
  {
   "cell_type": "markdown",
   "metadata": {},
   "source": [
    "# `numpy` \n",
    "## python's fundamental package for scientific computing"
   ]
  },
  {
   "cell_type": "markdown",
   "metadata": {},
   "source": [
    "Provides \n",
    "- a *multidimensional* `ndarray` *object* \n",
    "- various *derived objects* (such as *masked arrays* and *matrices*)\n",
    "- an assortment of *routines for fast operations on arrays*, including \n",
    "  - mathematical \n",
    "  - logical \n",
    "  - shape manipulation\n",
    "  - sorting\n",
    "  - selecting\n",
    "  - I/O\n",
    "  - discrete Fourier transforms\n",
    "  - basic linear algebra\n",
    "  - basic statistical operations\n",
    "  - random simulation\n",
    "  - much more."
   ]
  },
  {
   "cell_type": "markdown",
   "metadata": {},
   "source": [
    "<br>"
   ]
  },
  {
   "cell_type": "markdown",
   "metadata": {},
   "source": [
    "#### *Case Study:* Generating an $n \\times n$ array, two ways"
   ]
  },
  {
   "cell_type": "markdown",
   "metadata": {},
   "source": [
    "Let's say we need to write a function which generates an $n \\times n$ array, for any given $n$ value, consisting of  integer elements strictly increasing from left-to-right.   "
   ]
  },
  {
   "cell_type": "markdown",
   "metadata": {},
   "source": [
    "For this example, let's say the given input is $n = 3$. "
   ]
  },
  {
   "cell_type": "code",
   "execution_count": 1,
   "metadata": {},
   "outputs": [],
   "source": [
    "n = 3"
   ]
  },
  {
   "cell_type": "markdown",
   "metadata": {},
   "source": [
    "<style>\n",
    "    *{\n",
    "        box-sizing: border-box;\n",
    "    }\n",
    "    .container{\n",
    "        display: flex;\n",
    "        max-width: max-content;\n",
    "        justify-content: flex-start;\n",
    "        background-color: #fbd257;\n",
    "        padding: 1.5em;\n",
    "        color: black;\n",
    "    }\n",
    "    table{\n",
    "        margin-left: 3em;\n",
    "    }\n",
    "    td{\n",
    "        font-size: 1.5rem;\n",
    "        background-color: black;\n",
    "        color: white;\n",
    "    }\n",
    "</style>\n",
    "\n",
    "\n",
    "<div class=\"container\">\n",
    "    <p>The function should therefore return with something similar to the following:</p>\n",
    "    <table>\n",
    "        <tbody>\n",
    "            <tr>\n",
    "                <td>\n",
    "                    0\n",
    "                </td>\n",
    "                <td>\n",
    "                    1\n",
    "                </td>\n",
    "                <td>\n",
    "                    2\n",
    "                </td>\n",
    "            </tr>\n",
    "            <tr>\n",
    "                <td>\n",
    "                    3\n",
    "                </td>\n",
    "                <td>\n",
    "                    4\n",
    "                </td>\n",
    "                <td>\n",
    "                    5\n",
    "                </td>\n",
    "            </tr>\n",
    "            <tr>\n",
    "                <td>\n",
    "                    6\n",
    "                </td>\n",
    "                <td>\n",
    "                    7\n",
    "                </td>\n",
    "                <td>\n",
    "                    8\n",
    "                </td>\n",
    "            </tr>\n",
    "        <tbody>\n",
    "    </table>\n",
    "</div>"
   ]
  },
  {
   "cell_type": "markdown",
   "metadata": {},
   "source": [
    "<br>"
   ]
  },
  {
   "cell_type": "markdown",
   "metadata": {},
   "source": [
    "##### **Option 1**: Using vanilla python lists and nested loops"
   ]
  },
  {
   "cell_type": "code",
   "execution_count": 2,
   "metadata": {},
   "outputs": [],
   "source": [
    "def n_x_n_python_list( n ):\n",
    "    \"\"\"\n",
    "    returns a square matrix with n rows and n columns.\n",
    "    \"\"\"\n",
    "    running_index = 0\n",
    "\n",
    "    n_x_n = []\n",
    "\n",
    "    for rows in range( n ):\n",
    "\n",
    "        row = []\n",
    "\n",
    "        for cols in range( n ):\n",
    "\n",
    "            row.append( running_index )\n",
    "            running_index += 1\n",
    "            \n",
    "        n_x_n.append(row)\n",
    "    \n",
    "    return n_x_n"
   ]
  },
  {
   "cell_type": "code",
   "execution_count": 3,
   "metadata": {},
   "outputs": [
    {
     "data": {
      "text/plain": [
       "[[0, 1, 2], [3, 4, 5], [6, 7, 8]]"
      ]
     },
     "execution_count": 3,
     "metadata": {},
     "output_type": "execute_result"
    }
   ],
   "source": [
    "n_x_n_python_list( n )"
   ]
  },
  {
   "cell_type": "code",
   "execution_count": 4,
   "metadata": {},
   "outputs": [],
   "source": [
    "from timeit import timeit\n",
    "\n",
    "vanilla_python_execution_time = timeit( lambda: n_x_n_python_list( n ), number=10000 )"
   ]
  },
  {
   "cell_type": "markdown",
   "metadata": {},
   "source": [
    "<br>"
   ]
  },
  {
   "cell_type": "markdown",
   "metadata": {},
   "source": [
    "##### **Option 2**: Using NumPy's `ndarray` object and fast element-wise operations"
   ]
  },
  {
   "cell_type": "markdown",
   "metadata": {},
   "source": [
    "<style>\n",
    "    .container{\n",
    "        display: flex;\n",
    "        justify-content: flex-start;\n",
    "        align-items: center;\n",
    "    }\n",
    "    .container p {\n",
    "        font-size:  1.5rem;\n",
    "        margin-top: 1.6em;\n",
    "    }\n",
    "</style>\n",
    "\n",
    "<div class=\"container\">                                              \n",
    "    <img src=\"https://numpy.org/doc/stable/_static/numpylogo_dark.svg\"/>\n",
    "    <p>More efficient than doing things in loops</p>\n",
    "</div>"
   ]
  },
  {
   "cell_type": "code",
   "execution_count": 5,
   "metadata": {},
   "outputs": [],
   "source": [
    "import numpy as np"
   ]
  },
  {
   "cell_type": "code",
   "execution_count": 6,
   "metadata": {},
   "outputs": [],
   "source": [
    "def n_x_n_numpy_array( n ):\n",
    "    \"\"\"\n",
    "    returns a square matrix with n rows and n columns.\n",
    "    \"\"\"\n",
    "    return np.arange( n * n ).reshape(n , n)"
   ]
  },
  {
   "cell_type": "code",
   "execution_count": 7,
   "metadata": {},
   "outputs": [
    {
     "data": {
      "text/plain": [
       "array([[0, 1, 2],\n",
       "       [3, 4, 5],\n",
       "       [6, 7, 8]])"
      ]
     },
     "execution_count": 7,
     "metadata": {},
     "output_type": "execute_result"
    }
   ],
   "source": [
    "n_x_n_numpy_array( n )"
   ]
  },
  {
   "cell_type": "code",
   "execution_count": 8,
   "metadata": {},
   "outputs": [],
   "source": [
    "numpy_execution_time = timeit( lambda: n_x_n_numpy_array( n ), number=10000 )"
   ]
  },
  {
   "cell_type": "markdown",
   "metadata": {},
   "source": [
    "<br>"
   ]
  },
  {
   "cell_type": "markdown",
   "metadata": {},
   "source": [
    "##### Assessing NumPy vs Python execution time"
   ]
  },
  {
   "cell_type": "code",
   "execution_count": 9,
   "metadata": {},
   "outputs": [
    {
     "name": "stdout",
     "output_type": "stream",
     "text": [
      "Python's exectution time:             0.0139\n",
      "NumPy's exectution time:              0.0096\n",
      "\n",
      "NumPy's execution time is faster by:  0.0043\n"
     ]
    }
   ],
   "source": [
    "if numpy_execution_time < vanilla_python_execution_time:\n",
    "    print(\n",
    "        f\"Python's exectution time: {vanilla_python_execution_time:>18.4f}\\n\"\n",
    "        f\"NumPy's exectution time: {numpy_execution_time:>19.4f}\\n\\n\"\n",
    "        f\"NumPy's execution time is faster by: {vanilla_python_execution_time - numpy_execution_time:>7.4f}\"\n",
    "    )\n",
    "\n",
    "else:\n",
    "    print(\"it turns out that vanilla python's loops are faster!\")"
   ]
  }
 ],
 "metadata": {
  "kernelspec": {
   "display_name": "thunderDome",
   "language": "python",
   "name": "python3"
  },
  "language_info": {
   "codemirror_mode": {
    "name": "ipython",
    "version": 3
   },
   "file_extension": ".py",
   "mimetype": "text/x-python",
   "name": "python",
   "nbconvert_exporter": "python",
   "pygments_lexer": "ipython3",
   "version": "3.9.13"
  },
  "orig_nbformat": 4
 },
 "nbformat": 4,
 "nbformat_minor": 2
}
