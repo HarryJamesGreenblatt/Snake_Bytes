{
 "cells": [
  {
   "cell_type": "markdown",
   "metadata": {},
   "source": [
    "# pyfiglet <br> An ASCII Text Art Generator"
   ]
  },
  {
   "cell_type": "markdown",
   "metadata": {},
   "source": [
    "### FIGlet"
   ]
  },
  {
   "cell_type": "markdown",
   "metadata": {},
   "source": [
    "$FIGlet$ is a computer program that generates text banners, in a variety of typefaces, composed of letters made up of conglomerations of smaller ASCII characters (see ASCII art). The name derives from \"Frank, Ian and Glenn's letters\".\n",
    "   \n",
    "Being free software, FIGlet is commonly included as part of many Unix-like operating systems (Linux, BSD, etc.) distributions, but it has been ported to other platforms as well.    \n",
    "    \n",
    "The official FIGlet FTP site includes precompiled ports for the Acorn, Amiga, Apple II, Atari ST, BeOS, Macintosh, MS-DOS, NeXTSTEP, OS/2, and Windows platforms, as well as a reimplementation in Perl (Text::FIGlet). \n",
    "   \n",
    "There are third-party reimplementations of FIGlet in Java (including one embedded in the JavE ASCII art editor), JavaScript, PHP, **Python**, and Go. \n",
    "   \n",
    "FIGlet was featured as a Debian Package of the Day in 2007."
   ]
  },
  {
   "cell_type": "markdown",
   "metadata": {},
   "source": [
    "<br>"
   ]
  },
  {
   "cell_type": "markdown",
   "metadata": {},
   "source": [
    "### `pyfiglet`"
   ]
  },
  {
   "cell_type": "markdown",
   "metadata": {},
   "source": [
    "`pyfiglet` is a *port* of FIGlet, and much of the code is directly translated\n",
    "from the C source.   "
   ]
  },
  {
   "cell_type": "markdown",
   "metadata": {},
   "source": [
    "<br>"
   ]
  },
  {
   "cell_type": "markdown",
   "metadata": {},
   "source": [
    "#### Installation and Import"
   ]
  },
  {
   "cell_type": "markdown",
   "metadata": {},
   "source": [
    "`pyfiglet` can be installed from the Command Line using `pip` module"
   ]
  },
  {
   "cell_type": "markdown",
   "metadata": {},
   "source": [
    "```powershell\n",
    "python -m pip install pyfiglet\n",
    "```"
   ]
  },
  {
   "cell_type": "markdown",
   "metadata": {},
   "source": [
    "Following installation, it will then be available as a module  "
   ]
  },
  {
   "cell_type": "code",
   "execution_count": 1,
   "metadata": {},
   "outputs": [],
   "source": [
    "import pyfiglet"
   ]
  },
  {
   "cell_type": "markdown",
   "metadata": {},
   "source": [
    "<br>"
   ]
  },
  {
   "cell_type": "markdown",
   "metadata": {},
   "source": [
    "#### Font Options"
   ]
  },
  {
   "cell_type": "markdown",
   "metadata": {},
   "source": [
    "pyfiglet also supports reading fonts from a zip archive.   \n",
    "   \n",
    "pyfiglet comes with a file called fonts.zip which includes all of the default\n",
    "fonts FIGlet comes with as well as the standard collection of user-\n",
    "contributed fonts. By default, pyfiglet uses this for fonts.   "
   ]
  },
  {
   "cell_type": "code",
   "execution_count": 51,
   "metadata": {},
   "outputs": [
    {
     "data": {
      "text/plain": [
       "'1943____, 3-d, 3x5, 4x4_offr, 5lineoblique, 5x7, 5x8, 64f1____, 6x10, 6x9, acrobatic, advenger, alligator, alligator2, alphabet, aquaplan, arrows, ascii___, asc_____, assalt_m, asslt__m, atc_gran, atc_____, avatar, a_zooloo, banner, banner3-D, banner3, banner4, barbwire, basic, battlesh, battle_s, baz__bil, beer_pub, bell, big, bigchief, binary, block, brite, briteb, britebi, britei, broadway, bubble, bubble_b, bubble__, bulbhead, b_m__200, c1______, c2______, calgphy2, caligraphy, catwalk, caus_in_, char1___, char2___, char3___, char4___, charact1, charact2, charact3, charact4, charact5, charact6, characte, charset_, chartr, chartri, chunky, clb6x10, clb8x10, clb8x8, cli8x8, clr4x6, clr5x10, clr5x6, clr5x8, clr6x10, clr6x6, clr6x8, clr7x10, clr7x8, clr8x10, clr8x8, coil_cop, coinstak, colossal, computer, com_sen_, contessa, contrast, convoy__, cosmic, cosmike, cour, courb, courbi, couri, crawford, cricket, cursive, cyberlarge, cybermedium, cybersmall, c_ascii_, c_consen, dcs_bfmo, decimal, deep_str, defleppard, demo_1__, demo_2__, demo_m__, devilish, diamond, digital, doh, doom, dotmatrix, double, drpepper, druid___, dwhistled, d_dragon, ebbs_1__, ebbs_2__, eca_____, eftichess, eftifont, eftipiti, eftirobot, eftitalic, eftiwall, eftiwater, epic, etcrvs__, e__fist_, f15_____, faces_of, fairligh, fair_mea, fantasy_, fbr12___, fbr1____, fbr2____, fbr_stri, fbr_tilt, fender, finalass, fireing_, flyn_sh, fourtops, fp1_____, fp2_____, fraktur, funky_dr, future_1, future_2, future_3, future_4, future_5, future_6, future_7, future_8, fuzzy, gauntlet, ghost_bo, goofy, gothic, gothic__, graceful, gradient, graffiti, grand_pr, greek, green_be, hades___, heavy_me, helv, helvb, helvbi, helvi, heroboti, hex, high_noo, hills___, hollywood, home_pak, house_of, hypa_bal, hyper___, inc_raw_, invita, isometric1, isometric2, isometric3, isometric4, italic, italics_, ivrit, jazmine, jerusalem, joust___, katakana, kban, kgames_i, kik_star, krak_out, larry3d, lazy_jon, lcd, lean, letters, letterw3, letter_w, lexible_, linux, lockergnome, madrid, mad_nurs, magic_ma, marquee, master_o, maxfour, mayhem_d, mcg_____, mig_ally, mike, mini, mirror, mnemonic, modern__, morse, moscow, mshebrew210, nancyj-fancy, nancyj-underlined, nancyj, new_asci, nfi1____, nipples, notie_ca, npn_____, ntgreek, nvscript, o8, octal, odel_lak, ogre, ok_beer_, os2, outrun__, pacos_pe, panther_, pawn_ins, pawp, peaks, pebbles, pepper, phonix__, platoon2, platoon_, pod_____, poison, puffy, pyramid, p_skateb, p_s_h_m_, r2-d2___, radical_, rad_phan, rad_____, rainbow_, rally_s2, rally_sp, rampage_, rastan__, raw_recu, rci_____, rectangles, relief, relief2, rev, ripper!_, road_rai, rockbox_, rok_____, roman, roman___, rot13, rounded, rowancap, rozzo, runic, runyc, sans, sansb, sansbi, sansi, sblood, sbook, sbookb, sbookbi, sbooki, script, script__, serifcap, shadow, shimrod, short, skateord, skateroc, skate_ro, sketch_s, slant, slide, slscript, small, smisome1, smkeyboard, smscript, smshadow, smslant, smtengwar, sm______, space_op, spc_demo, speed, stacey, stampatello, standard, starwars, star_war, stealth_, stellar, stencil1, stencil2, stop, straight, street_s, subteran, super_te, tanja, tav1____, taxi____, tec1____, tecrvs__, tec_7000, tengwar, term, thick, thin, threepoint, ticks, ticksslant, tiles, times, timesofl, tinker-toy, ti_pan__, tomahawk, tombstone, top_duck, trashman, trek, triad_st, ts1_____, tsalagi, tsm_____, tsn_base, tty, ttyb, tubular, twin_cob, twopoint, type_set, t__of_ap, ucf_fan_, ugalympi, unarmed_, univers, usaflag, usa_pq__, usa_____, utopia, utopiab, utopiabi, utopiai, vortron_, war_of_w, wavy, weird, whimsy, xbrite, xbriteb, xbritebi, xbritei, xchartr, xchartri, xcour, xcourb, xcourbi, xcouri, xhelv, xhelvb, xhelvbi, xhelvi, xsans, xsansb, xsansbi, xsansi, xsbook, xsbookb, xsbookbi, xsbooki, xtimes, xtty, xttyb, yie-ar__, yie_ar_k, z-pilot_, zig_zag_, zone7___'"
      ]
     },
     "execution_count": 51,
     "metadata": {},
     "output_type": "execute_result"
    }
   ],
   "source": [
    "# Show the full list of built-in Fonts\n",
    "# with each Font delimited by a ', '\n",
    "\", \".join( pyfiglet.FigletFont.getFonts() )"
   ]
  },
  {
   "cell_type": "markdown",
   "metadata": {},
   "source": [
    "<br>"
   ]
  },
  {
   "cell_type": "markdown",
   "metadata": {},
   "source": [
    "#### Printing FIGlet text directly to console"
   ]
  },
  {
   "cell_type": "markdown",
   "metadata": {},
   "source": [
    "##### Using the Default Font"
   ]
  },
  {
   "cell_type": "code",
   "execution_count": 49,
   "metadata": {},
   "outputs": [
    {
     "name": "stdout",
     "output_type": "stream",
     "text": [
      " _____ _     _       _       _   _            ____        __             _ _   \n",
      "|_   _| |__ (_)___  (_)___  | |_| |__   ___  |  _ \\  ___ / _| __ _ _   _| | |_ \n",
      "  | | | '_ \\| / __| | / __| | __| '_ \\ / _ \\ | | | |/ _ \\ |_ / _` | | | | | __|\n",
      "  | | | | | | \\__ \\ | \\__ \\ | |_| | | |  __/ | |_| |  __/  _| (_| | |_| | | |_ \n",
      "  |_| |_| |_|_|___/ |_|___/  \\__|_| |_|\\___| |____/ \\___|_|  \\__,_|\\__,_|_|\\__|\n",
      "                                                                               \n",
      " _____           _   \n",
      "|  ___|__  _ __ | |_ \n",
      "| |_ / _ \\| '_ \\| __|\n",
      "|  _| (_) | | | | |_ \n",
      "|_|  \\___/|_| |_|\\__|\n",
      "                     \n",
      "\n"
     ]
    }
   ],
   "source": [
    "pyfiglet.print_figlet('This is the Default Font')"
   ]
  },
  {
   "cell_type": "markdown",
   "metadata": {},
   "source": [
    "##### Providing a Font Selection"
   ]
  },
  {
   "cell_type": "code",
   "execution_count": 50,
   "metadata": {},
   "outputs": [
    {
     "name": "stdout",
     "output_type": "stream",
     "text": [
      " ______  __                                      __    __                \n",
      "/\\__  _\\/\\ \\      __              __            /\\ \\__/\\ \\               \n",
      "\\/_/\\ \\/\\ \\ \\___ /\\_\\    ____    /\\_\\    ____   \\ \\ ,_\\ \\ \\___      __   \n",
      "   \\ \\ \\ \\ \\  _ `\\/\\ \\  /',__\\   \\/\\ \\  /',__\\   \\ \\ \\/\\ \\  _ `\\  /'__`\\ \n",
      "    \\ \\ \\ \\ \\ \\ \\ \\ \\ \\/\\__, `\\   \\ \\ \\/\\__, `\\   \\ \\ \\_\\ \\ \\ \\ \\/\\  __/ \n",
      "     \\ \\_\\ \\ \\_\\ \\_\\ \\_\\/\\____/    \\ \\_\\/\\____/    \\ \\__\\\\ \\_\\ \\_\\ \\____\\\n",
      "      \\/_/  \\/_/\\/_/\\/_/\\/___/      \\/_/\\/___/      \\/__/ \\/_/\\/_/\\/____/\n",
      "                                                                         \n",
      "                                                                         \n",
      " ___                                      __       __     \n",
      "/\\_ \\                                   /'__`\\    /\\ \\    \n",
      "\\//\\ \\      __     _ __   _ __   __  __/\\_\\L\\ \\   \\_\\ \\   \n",
      "  \\ \\ \\   /'__`\\  /\\`'__\\/\\`'__\\/\\ \\/\\ \\/_/_\\_<_  /'_` \\  \n",
      "   \\_\\ \\_/\\ \\L\\.\\_\\ \\ \\/ \\ \\ \\/ \\ \\ \\_\\ \\/\\ \\L\\ \\/\\ \\L\\ \\ \n",
      "   /\\____\\ \\__/.\\_\\\\ \\_\\  \\ \\_\\  \\/`____ \\ \\____/\\ \\___,_\\\n",
      "   \\/____/\\/__/\\/_/ \\/_/   \\/_/   `/___/> \\/___/  \\/__,_ /\n",
      "                                     /\\___/               \n",
      "                                     \\/__/                \n",
      " ____                __      \n",
      "/\\  _`\\             /\\ \\__   \n",
      "\\ \\ \\L\\_\\___     ___\\ \\ ,_\\  \n",
      " \\ \\  _\\/ __`\\ /' _ `\\ \\ \\/  \n",
      "  \\ \\ \\/\\ \\L\\ \\/\\ \\/\\ \\ \\ \\_ \n",
      "   \\ \\_\\ \\____/\\ \\_\\ \\_\\ \\__\\\n",
      "    \\/_/\\/___/  \\/_/\\/_/\\/__/\n",
      "                             \n",
      "                             \n",
      " ____            ___                  __              __     \n",
      "/\\  _`\\         /\\_ \\                /\\ \\__          /\\ \\    \n",
      "\\ \\,\\L\\_\\     __\\//\\ \\      __    ___\\ \\ ,_\\    __   \\_\\ \\   \n",
      " \\/_\\__ \\   /'__`\\\\ \\ \\   /'__`\\ /'___\\ \\ \\/  /'__`\\ /'_` \\  \n",
      "   /\\ \\L\\ \\/\\  __/ \\_\\ \\_/\\  __//\\ \\__/\\ \\ \\_/\\  __//\\ \\L\\ \\ \n",
      "   \\ `\\____\\ \\____\\/\\____\\ \\____\\ \\____\\\\ \\__\\ \\____\\ \\___,_\\\n",
      "    \\/_____/\\/____/\\/____/\\/____/\\/____/ \\/__/\\/____/\\/__,_ /\n",
      "                                                             \n",
      "                                                             \n",
      "\n"
     ]
    }
   ],
   "source": [
    "pyfiglet.print_figlet('This is the larry3d Font Selected', font='larry3d')"
   ]
  },
  {
   "cell_type": "markdown",
   "metadata": {},
   "source": [
    "<br>"
   ]
  },
  {
   "cell_type": "markdown",
   "metadata": {},
   "source": [
    "#### Storing FIGlet text in a variable"
   ]
  },
  {
   "cell_type": "markdown",
   "metadata": {},
   "source": [
    "##### Using the Default Font"
   ]
  },
  {
   "cell_type": "code",
   "execution_count": 35,
   "metadata": {},
   "outputs": [],
   "source": [
    "default_figlet = pyfiglet.figlet_format('This is the default font')"
   ]
  },
  {
   "cell_type": "code",
   "execution_count": 38,
   "metadata": {},
   "outputs": [
    {
     "data": {
      "text/plain": [
       "\" _____ _     _       _       _   _                _       __             _ _   \\n|_   _| |__ (_)___  (_)___  | |_| |__   ___    __| | ___ / _| __ _ _   _| | |_ \\n  | | | '_ \\\\| / __| | / __| | __| '_ \\\\ / _ \\\\  / _` |/ _ \\\\ |_ / _` | | | | | __|\\n  | | | | | | \\\\__ \\\\ | \\\\__ \\\\ | |_| | | |  __/ | (_| |  __/  _| (_| | |_| | | |_ \\n  |_| |_| |_|_|___/ |_|___/  \\\\__|_| |_|\\\\___|  \\\\__,_|\\\\___|_|  \\\\__,_|\\\\__,_|_|\\\\__|\\n                                                                               \\n  __             _   \\n / _| ___  _ __ | |_ \\n| |_ / _ \\\\| '_ \\\\| __|\\n|  _| (_) | | | | |_ \\n|_|  \\\\___/|_| |_|\\\\__|\\n                     \\n\""
      ]
     },
     "execution_count": 38,
     "metadata": {},
     "output_type": "execute_result"
    }
   ],
   "source": [
    "# The Figlet text is now stored as default_figlet\n",
    "default_figlet"
   ]
  },
  {
   "cell_type": "code",
   "execution_count": 39,
   "metadata": {},
   "outputs": [
    {
     "name": "stdout",
     "output_type": "stream",
     "text": [
      " _____ _     _       _       _   _                _       __             _ _   \n",
      "|_   _| |__ (_)___  (_)___  | |_| |__   ___    __| | ___ / _| __ _ _   _| | |_ \n",
      "  | | | '_ \\| / __| | / __| | __| '_ \\ / _ \\  / _` |/ _ \\ |_ / _` | | | | | __|\n",
      "  | | | | | | \\__ \\ | \\__ \\ | |_| | | |  __/ | (_| |  __/  _| (_| | |_| | | |_ \n",
      "  |_| |_| |_|_|___/ |_|___/  \\__|_| |_|\\___|  \\__,_|\\___|_|  \\__,_|\\__,_|_|\\__|\n",
      "                                                                               \n",
      "  __             _   \n",
      " / _| ___  _ __ | |_ \n",
      "| |_ / _ \\| '_ \\| __|\n",
      "|  _| (_) | | | | |_ \n",
      "|_|  \\___/|_| |_|\\__|\n",
      "                     \n",
      "\n"
     ]
    }
   ],
   "source": [
    "# The Figlet text will assemble appropriateley when printed \n",
    "print( default_figlet )"
   ]
  },
  {
   "cell_type": "markdown",
   "metadata": {},
   "source": [
    "##### Providing a Font Selection"
   ]
  },
  {
   "cell_type": "code",
   "execution_count": 46,
   "metadata": {},
   "outputs": [],
   "source": [
    "selected_figlet = pyfiglet.figlet_format('This is the larry3d Font Selected', font='larry3d')"
   ]
  },
  {
   "cell_type": "code",
   "execution_count": 47,
   "metadata": {},
   "outputs": [
    {
     "name": "stdout",
     "output_type": "stream",
     "text": [
      " ______  __                                      __    __                \n",
      "/\\__  _\\/\\ \\      __              __            /\\ \\__/\\ \\               \n",
      "\\/_/\\ \\/\\ \\ \\___ /\\_\\    ____    /\\_\\    ____   \\ \\ ,_\\ \\ \\___      __   \n",
      "   \\ \\ \\ \\ \\  _ `\\/\\ \\  /',__\\   \\/\\ \\  /',__\\   \\ \\ \\/\\ \\  _ `\\  /'__`\\ \n",
      "    \\ \\ \\ \\ \\ \\ \\ \\ \\ \\/\\__, `\\   \\ \\ \\/\\__, `\\   \\ \\ \\_\\ \\ \\ \\ \\/\\  __/ \n",
      "     \\ \\_\\ \\ \\_\\ \\_\\ \\_\\/\\____/    \\ \\_\\/\\____/    \\ \\__\\\\ \\_\\ \\_\\ \\____\\\n",
      "      \\/_/  \\/_/\\/_/\\/_/\\/___/      \\/_/\\/___/      \\/__/ \\/_/\\/_/\\/____/\n",
      "                                                                         \n",
      "                                                                         \n",
      " ___                                      __       __     \n",
      "/\\_ \\                                   /'__`\\    /\\ \\    \n",
      "\\//\\ \\      __     _ __   _ __   __  __/\\_\\L\\ \\   \\_\\ \\   \n",
      "  \\ \\ \\   /'__`\\  /\\`'__\\/\\`'__\\/\\ \\/\\ \\/_/_\\_<_  /'_` \\  \n",
      "   \\_\\ \\_/\\ \\L\\.\\_\\ \\ \\/ \\ \\ \\/ \\ \\ \\_\\ \\/\\ \\L\\ \\/\\ \\L\\ \\ \n",
      "   /\\____\\ \\__/.\\_\\\\ \\_\\  \\ \\_\\  \\/`____ \\ \\____/\\ \\___,_\\\n",
      "   \\/____/\\/__/\\/_/ \\/_/   \\/_/   `/___/> \\/___/  \\/__,_ /\n",
      "                                     /\\___/               \n",
      "                                     \\/__/                \n",
      " ____                __      \n",
      "/\\  _`\\             /\\ \\__   \n",
      "\\ \\ \\L\\_\\___     ___\\ \\ ,_\\  \n",
      " \\ \\  _\\/ __`\\ /' _ `\\ \\ \\/  \n",
      "  \\ \\ \\/\\ \\L\\ \\/\\ \\/\\ \\ \\ \\_ \n",
      "   \\ \\_\\ \\____/\\ \\_\\ \\_\\ \\__\\\n",
      "    \\/_/\\/___/  \\/_/\\/_/\\/__/\n",
      "                             \n",
      "                             \n",
      " ____            ___                  __              __     \n",
      "/\\  _`\\         /\\_ \\                /\\ \\__          /\\ \\    \n",
      "\\ \\,\\L\\_\\     __\\//\\ \\      __    ___\\ \\ ,_\\    __   \\_\\ \\   \n",
      " \\/_\\__ \\   /'__`\\\\ \\ \\   /'__`\\ /'___\\ \\ \\/  /'__`\\ /'_` \\  \n",
      "   /\\ \\L\\ \\/\\  __/ \\_\\ \\_/\\  __//\\ \\__/\\ \\ \\_/\\  __//\\ \\L\\ \\ \n",
      "   \\ `\\____\\ \\____\\/\\____\\ \\____\\ \\____\\\\ \\__\\ \\____\\ \\___,_\\\n",
      "    \\/_____/\\/____/\\/____/\\/____/\\/____/ \\/__/\\/____/\\/__,_ /\n",
      "                                                             \n",
      "                                                             \n",
      "\n"
     ]
    }
   ],
   "source": [
    "print( selected_figlet )"
   ]
  },
  {
   "cell_type": "markdown",
   "metadata": {},
   "source": [
    "<br>"
   ]
  },
  {
   "cell_type": "markdown",
   "metadata": {},
   "source": [
    "<br>"
   ]
  }
 ],
 "metadata": {
  "kernelspec": {
   "display_name": "Python 3.9.13 ('thunderDome')",
   "language": "python",
   "name": "python3"
  },
  "language_info": {
   "codemirror_mode": {
    "name": "ipython",
    "version": 3
   },
   "file_extension": ".py",
   "mimetype": "text/x-python",
   "name": "python",
   "nbconvert_exporter": "python",
   "pygments_lexer": "ipython3",
   "version": "3.9.13"
  },
  "orig_nbformat": 4,
  "vscode": {
   "interpreter": {
    "hash": "bade8211235ab644dd17f0cd83f594f159209fad98c582b972f18f95884606a8"
   }
  }
 },
 "nbformat": 4,
 "nbformat_minor": 2
}
