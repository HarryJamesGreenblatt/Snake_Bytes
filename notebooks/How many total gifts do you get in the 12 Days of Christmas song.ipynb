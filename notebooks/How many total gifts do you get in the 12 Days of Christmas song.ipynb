{
 "cells": [
  {
   "cell_type": "markdown",
   "id": "407495ac",
   "metadata": {},
   "source": [
    "# How many total gifts do you get in the 12 Days of Christmas song?"
   ]
  },
  {
   "cell_type": "markdown",
   "id": "71c3b52d",
   "metadata": {},
   "source": [
    "For each day of the $\\text{\"Twelves Days of Christmas\"}$ we receive __a new gift__, and _for each gift_,   \n",
    "we receive a __quantity relative to a strictly increasing count of which of the 12 days it is__. \n",
    "   \n",
    "However, it is important to observe that, _for each concurrent day_, the __new gifts _compound_ with all the gifts that came before it__, as follows:\n",
    "   \n",
    "|Day of Christmas| # of Gifts Received |\n",
    "|:---:|:---:|\n",
    "|First| 1 |\n",
    "|Second| 2 + _(# Gifts Received First Day)_ |\n",
    "|Third | 3 + _(# Gifts Received Second Day)_ + _(# Gifts Received First Day)_ |\n",
    "| ...  | ... |\n",
    "|Twelfth| 12 + _(# Gifts Received Eleventh Day)_ + _(# Gifts Received Tenth Day)_ + $\\dots$ + _(# Gifts Received First Day)_  |   "
   ]
  },
  {
   "cell_type": "markdown",
   "id": "70daaaa9",
   "metadata": {},
   "source": [
    "<br>"
   ]
  },
  {
   "cell_type": "markdown",
   "id": "d5b7a7d1",
   "metadata": {},
   "source": [
    "A more mathematical representation which expresses the accumulation of gifts received is:\n",
    "$[1] + [2 + 1] + [3 + 2 + 1]\\,+\\,\\dots\\,+\\,[12 + 11 + ... + 1]$"
   ]
  },
  {
   "cell_type": "markdown",
   "id": "aaeb68cc",
   "metadata": {},
   "source": [
    "<br>"
   ]
  },
  {
   "cell_type": "markdown",
   "id": "11db7191",
   "metadata": {},
   "source": [
    "We can represent something similar to this using ```python```.  \n",
    "As a first step, we can express the accumulation as a _multi-dimensional list_ whose rows each represent a _consecutively increasing range of days_:"
   ]
  },
  {
   "cell_type": "code",
   "execution_count": 1,
   "id": "6f2bb4fc",
   "metadata": {},
   "outputs": [
    {
     "data": {
      "text/plain": [
       "[[1],\n",
       " [1, 2],\n",
       " [1, 2, 3],\n",
       " [1, 2, 3, 4],\n",
       " [1, 2, 3, 4, 5],\n",
       " [1, 2, 3, 4, 5, 6],\n",
       " [1, 2, 3, 4, 5, 6, 7],\n",
       " [1, 2, 3, 4, 5, 6, 7, 8],\n",
       " [1, 2, 3, 4, 5, 6, 7, 8, 9],\n",
       " [1, 2, 3, 4, 5, 6, 7, 8, 9, 10],\n",
       " [1, 2, 3, 4, 5, 6, 7, 8, 9, 10, 11],\n",
       " [1, 2, 3, 4, 5, 6, 7, 8, 9, 10, 11, 12]]"
      ]
     },
     "execution_count": 1,
     "metadata": {},
     "output_type": "execute_result"
    }
   ],
   "source": [
    "[ list( range(1, day + 1) ) for day in range(1, 13) ]"
   ]
  },
  {
   "cell_type": "markdown",
   "id": "4c88808e",
   "metadata": {},
   "source": [
    "<br>"
   ]
  },
  {
   "cell_type": "markdown",
   "id": "3eefd247",
   "metadata": {},
   "source": [
    "Going further, instead of merely listing them, we could rather __sum up all the days respective to each row__ with only a small modification: "
   ]
  },
  {
   "cell_type": "code",
   "execution_count": 2,
   "id": "57639646",
   "metadata": {},
   "outputs": [
    {
     "data": {
      "text/plain": [
       "[1, 3, 6, 10, 15, 21, 28, 36, 45, 55, 66, 78]"
      ]
     },
     "execution_count": 2,
     "metadata": {},
     "output_type": "execute_result"
    }
   ],
   "source": [
    "[ sum( range(1, day + 1) ) for day in range(1, 13) ]"
   ]
  },
  {
   "cell_type": "markdown",
   "id": "c10ff450",
   "metadata": {},
   "source": [
    "<br>"
   ]
  },
  {
   "cell_type": "markdown",
   "id": "948f5568",
   "metadata": {},
   "source": [
    "Finally, since we have, in essence, now _aggregated each row in the multi-dimensional list_ into a _single, calculated value_,   \n",
    "We may now __take the sum of this aggregated result__ to expose the solution, as follows: \n",
    " "
   ]
  },
  {
   "cell_type": "code",
   "execution_count": 3,
   "id": "c8791b70",
   "metadata": {},
   "outputs": [
    {
     "data": {
      "text/plain": [
       "364"
      ]
     },
     "execution_count": 3,
     "metadata": {},
     "output_type": "execute_result"
    }
   ],
   "source": [
    "sum( sum( range(1, day + 1) ) for day in range(1, 13) )"
   ]
  },
  {
   "cell_type": "markdown",
   "id": "39bc6697",
   "metadata": {},
   "source": [
    "<br>"
   ]
  },
  {
   "cell_type": "markdown",
   "id": "8f4af703",
   "metadata": {},
   "source": [
    "$Conclusively$,  \n",
    "  \n",
    "The ```python``` code executed above thereby validates the mathematical assertion that:  "
   ]
  },
  {
   "cell_type": "markdown",
   "id": "9494b331",
   "metadata": {},
   "source": [
    "$$(1) + (2 + 1) + (3 + 2 + 1) + \\dots + (12 + 11 + \\dots + 1)$$\n",
    "$$=$$\n",
    "$$1 + 3 + 6 + 10 + 15 + 21 + 28 + 36 + 45 + 55 + 66 + 78$$\n",
    "$$=$$\n",
    "$$\\Large{364}$$"
   ]
  }
 ],
 "metadata": {
  "kernelspec": {
   "display_name": "Python 3 (ipykernel)",
   "language": "python",
   "name": "python3"
  },
  "language_info": {
   "codemirror_mode": {
    "name": "ipython",
    "version": 3
   },
   "file_extension": ".py",
   "mimetype": "text/x-python",
   "name": "python",
   "nbconvert_exporter": "python",
   "pygments_lexer": "ipython3",
   "version": "3.9.13"
  }
 },
 "nbformat": 4,
 "nbformat_minor": 5
}
